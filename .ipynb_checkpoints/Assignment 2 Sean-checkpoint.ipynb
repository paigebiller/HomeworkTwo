{
 "cells": [
  {
   "cell_type": "markdown",
   "metadata": {},
   "source": [
    "# Problem 1 (5 points)\n",
    "\n",
    "Write a simple program to compute the tax on an order amount. The program should prompt for the order amount and the state. If the state is “WI,” then the order must be charged 5.5% tax. The program should display the subtotal, tax, and total for Wisconsin residents but display just the total for non-residents.\n",
    "\n",
    "## Example Output\n",
    "<pre>\n",
    "What is the order amount? 10\n",
    "What is the state? WI\n",
    "The subtotal is $10.00.\n",
    "The tax is $0.55.\n",
    "The total is $10.55.\n",
    "</pre>\n",
    "\n",
    "Or\n",
    "\n",
    "<pre>\n",
    "What is the order amount? 10\n",
    "What is the state? MN\n",
    "The total is $10.00\n",
    "</pre>\n",
    "\n",
    "## Constraints\n",
    "\n",
    "- Implement this program using only a simple if statement—don’t use an else clause.\n",
    "- Ensure that all money is rounded up to the nearest cent.\n",
    "- Use a single output statement at the end of the program to display the program results."
   ]
  },
  {
   "cell_type": "code",
   "execution_count": 92,
   "metadata": {
    "collapsed": false
   },
   "outputs": [
    {
     "name": "stdout",
     "output_type": "stream",
     "text": [
      "What is the order amount?: 10\n",
      "Which state?: wi\n",
      "The total is $10.00\n"
     ]
    }
   ],
   "source": [
    "def problem1():\n",
    "    import math #imports math functions that will assist with rounding constraint\n",
    "    #These input statements prompt the user to enter an integer for the variables orderamt and stateabv\n",
    "    orderamt = int(input('What is the order amount?: '))\n",
    "    stateabv = input('Which state?: ')\n",
    "    total = orderamt\n",
    "    outputstr = ''\n",
    "    if stateabv == 'WI':\n",
    "        tax = math.ceil(orderamt*.055*100)/100\n",
    "        total = orderamt + tax\n",
    "        outputstr += 'The subtotal is ${:,.2f}'.format(orderamt)+'\\n''The tax is ${:,.2f}'.format(tax)+'\\n'\n",
    "    outputstr += 'The total is ${:,.2f}'.format(total)\n",
    "    print(outputstr)          \n",
    "problem1()"
   ]
  },
  {
   "cell_type": "markdown",
   "metadata": {},
   "source": [
    "# Problem 2 (4 points)\n",
    "\n",
    "Create a simple program that validates user login credentials. The program must prompt the user for a username and password. The program should compare the password given by the user to a known password. If the password matches, the program should display “Welcome!” If it doesn’t match, the program should display “I don’t know you.”\n",
    "\n",
    "## Example Output\n",
    "\n",
    "<pre>\n",
    "What is the password? 12345\n",
    "I don't know you.\n",
    "</pre>\n",
    "\n",
    "Or\n",
    "\n",
    "<pre>\n",
    "What is the password? abc$123\n",
    "Welcome!\n",
    "</pre>\n",
    "\n",
    "## Constraints\n",
    "\n",
    "- Use an if/else statement for this problem.\n",
    "- Make sure the program is case sensitive."
   ]
  },
  {
   "cell_type": "code",
   "execution_count": 4,
   "metadata": {
    "collapsed": false
   },
   "outputs": [
    {
     "name": "stdout",
     "output_type": "stream",
     "text": [
      "enter username: sean\n",
      "enter the password: abc$123\n",
      "Welcome!\n"
     ]
    }
   ],
   "source": [
    "def problem2():\n",
    "#These input statements prompt the user to enter a string for the variables username and password\n",
    "    username = input('enter username: ')\n",
    "    password = input('enter the password: ')\n",
    "    if password == 'abc$123': #if statement assigns a rule that will only work if the password reads exactly 'abc$123'\n",
    "        print('Welcome!') #prints this string if the input password matches the if statement\n",
    "    else: #else statement considers all other options not assigned in the if statement\n",
    "        print(\"I don't know you.\") #prints this string if the password does not match the if statement\n",
    "problem2()"
   ]
  },
  {
   "cell_type": "markdown",
   "metadata": {},
   "source": [
    "# Problem 3 (3 points)\n",
    "\n",
    "Write a program that asks the user for their age and compare it to the legal driving age of sixteen. If the user is sixteen or older, then the program should display “You are old enough to legally drive.” If the user is under sixteen, the program should display “You are not old enough to legally drive.”\n",
    "\n",
    "## Example Output\n",
    "\n",
    "<pre>\n",
    "What is your age? 15\n",
    "You are not old enough to legally drive.\n",
    "</pre>\n",
    "\n",
    "Or\n",
    "\n",
    "<pre>\n",
    "What is your age? 35\n",
    "You are old enough to legally drive.\n",
    "</pre>\n",
    "\n",
    "## Constraints\n",
    "\n",
    "- Use a single output statement."
   ]
  },
  {
   "cell_type": "code",
   "execution_count": 6,
   "metadata": {
    "collapsed": false
   },
   "outputs": [
    {
     "name": "stdout",
     "output_type": "stream",
     "text": [
      "enter your age: 100\n",
      "you are old enough to drive\n"
     ]
    }
   ],
   "source": [
    "def problem3():\n",
    "#This prompts the user to enter their age.\n",
    "    age = int(input('enter your age: '))\n",
    "    if age < 16: #Measures the variable age and sees if the value of the integer is less than 16\n",
    "        outputstr = 'you are not old enough to drive' #assigns the string to the variable outputstr\n",
    "    else: #Checks to see if the integer is greater than or equal to 16\n",
    "        outputstr = 'you are old enough to drive' #assigns the string to the variable outputstr\n",
    "    print(outputstr) #This prints the variable outputstr. It prints the correct outputstr because it knows when the if or else conditions to use the variable within the if or else statement.\n",
    "problem3()"
   ]
  },
  {
   "cell_type": "markdown",
   "metadata": {},
   "source": [
    "# Problem 4 (3 points)\n",
    "\n",
    "Create a program that prompts for your weight, gender, number of drinks, the amount of alcohol by volume of the drinks consumed, and the amount of time since your last drink. Calculate your blood alcohol content (BAC) using this formula $BAC = (A \\times 5.14 / W \\times r) - 0.015 \\times H$\n",
    "\n",
    "where\n",
    "\n",
    "- A is total alcohol consumed, in ounces (oz).\n",
    "- W is body weight in pounds.\n",
    "- r is the alcohol distribution ratio:\n",
    "  - 0.73 for men\n",
    "  - 0.66 for women\n",
    "- H is number of hours since the last drink.\n",
    "\n",
    "Display whether or not it’s legal to drive by comparing the blood alcohol content to 0.08.\n",
    "\n",
    "## Example Output\n",
    "<pre>\n",
    "Your BAC is 0.08\n",
    "It is not legal for you to drive.\n",
    "</pre>\n",
    "\n",
    "## Constraint\n",
    "\n",
    "- Prevent the user from entering non-numeric values."
   ]
  },
  {
   "cell_type": "code",
   "execution_count": 220,
   "metadata": {
    "collapsed": false
   },
   "outputs": [
    {
     "name": "stdout",
     "output_type": "stream",
     "text": [
      "enter your weight in pounds: 200\n",
      "enter your gender \"0 for male and 1 for female\": 0\n",
      "enter the number of drinks in ounces: 30\n",
      "enter the amount of alcohol by volume of drinks consumed: 20\n",
      "enter the time in hours since your last drink: 2\n",
      "Your BAC is -0.03\n",
      "it is legal for you to drive\n"
     ]
    }
   ],
   "source": [
    "def program4():\n",
    "    try: #Try statement looks for exceptions in the input statements\n",
    "#These input statements prompt the user to enter integers for the variables below.\n",
    "        weight = int(input('enter your weight in pounds: '))\n",
    "        gender = int(input('enter your gender \"0 for male and 1 for female\": '))\n",
    "        drinks = int(input('enter the number of drinks in ounces: '))\n",
    "        alcvolume = int(input('enter the amount of alcohol by volume of drinks consumed: '))\n",
    "        time = int(input('enter the time in hours since your last drink: '))\n",
    "    except ValueError:  \n",
    "        print('needs to be an integer!') #except identifies when the user didn't enter an integer then the print staement let's the user know that it has to be an integer.\n",
    "    adrm = .73\n",
    "    adrf = .66 #alcohol distribution ratio for men and women stored as adrm and adrf respectively\n",
    "    if gender == 0:\n",
    "        BAC = (drinks * 5.14 // weight * adrm) - .015 * time #this if statement looks for the value of gender to be 0, runs the formula, and stores in variable BAC\n",
    "    elif gender == 1:\n",
    "        BAC = (drinks * 5.14 // weight * adrf) - .015 * time #this elif statement looks for the value of gender to be 1, runs the formula, and stores in variable BAC\n",
    "    print('Your BAC is', BAC)\n",
    "    #This if statement will test the value output of the variable BAC. If it's above BAC, it will print the first string. Otherwise, it will orint the second string.\n",
    "    if BAC > .08:\n",
    "        print('it is not legal for you to drive') \n",
    "    else:\n",
    "        print('it is legal for you to drive') \n",
    "program4()"
   ]
  },
  {
   "cell_type": "markdown",
   "metadata": {},
   "source": [
    "# Problem 5 (4 points)\n",
    "\n",
    "Create a program that converts temperatures from Fahrenheit to Celsius or from Celsius to Fahrenheit. Prompt for the starting temperature. The program should prompt for the type of conversion and then perform the conversion.\n",
    "\n",
    "The formulas are\n",
    "\n",
    "$C = (F - 32) \\times 5/9$\n",
    "\n",
    "and\n",
    "\n",
    "$F = (C \\times 9/5) + 32$\n",
    "\n",
    "## Example Output\n",
    "\n",
    "<pre>\n",
    "Press C to convert from Fahrenheit to Celsius.\n",
    "Press F to convert from Celsius to Fahrenheit.\n",
    "Your choice: C\n",
    "Please enter the temperature in Fahrenheit: 32\n",
    "The temperature in Celsius is 0.\n",
    "</pre>\n",
    "\n",
    "## Constraints\n",
    "\n",
    "- Ensure that you allow upper or lowercase values for C and F.\n",
    "- Use as few output statements as possible and avoid repeating output strings."
   ]
  },
  {
   "cell_type": "code",
   "execution_count": 7,
   "metadata": {
    "collapsed": false
   },
   "outputs": [
    {
     "name": "stdout",
     "output_type": "stream",
     "text": [
      "enter a starting temperature: 100\n",
      "enter the desired conversion \"C for Farenheit to Celsius and F for Celsius to Farenheit:\" f\n",
      "The temperature in farenheit is 37\n"
     ]
    }
   ],
   "source": [
    "def program5():\n",
    "#These input statements prompt the user to enter an integer for temperature and a string for conversion. the .lower() ensures a lowercase and uppercase string is valid.\n",
    "    temperature = int(input('enter a starting temperature: '))\n",
    "    conversion = input('enter the desired conversion \"C for Farenheit to Celsius and F for Celsius to Farenheit:\" ').lower()\n",
    "    #formulas to be used temperature conversions\n",
    "    #c = (f - 32) * 5//9\n",
    "    #f = (c * 9//5) + 32\n",
    "    if conversion == 'f': #Measures the variable conversion and determines if the value of the string is f.\n",
    "        system = 'farenheit' #Stores the string to be used in print statement\n",
    "        newtemp = (temperature - 32) * 5 // 9 #variable newtemp stores the conversion granted the conversion = f\n",
    "    elif conversion == 'c': #Measures the variable conversion and determines if the value of the string is c.\n",
    "        system = 'celsius' #Stores the string to be used in print statement\n",
    "        newtemp = (temperature * 9 // 5) + 32 #variable newtemp stores the conversion granted the conversion = c\n",
    "    print('The temperature in', system , 'is', newtemp) #print statement displays the strings no matter what. Variables system and newtemp are driven based on which conversion is used.\n",
    "program5()"
   ]
  },
  {
   "cell_type": "markdown",
   "metadata": {},
   "source": [
    "# Problem 6 (3 points)\n",
    "\n",
    "Create a program to calculate the body mass index (BMI) for a person using the person’s height in inches and weight in pounds. The program should prompt the user for weight and height.\n",
    "\n",
    "Calculate the BMI by using the following formula: $bmi = (weight / (height \\times height)) \\times 703$\n",
    "\n",
    "If the BMI is between 18.5 and 25, display that the person is at a normal weight. If they are out of that range, tell them if they are underweight or overweight and tell them to consult their doctor.\n",
    "\n",
    "## Example Output\n",
    "\n",
    "<pre>\n",
    "Your BMI is 19.5.\n",
    "You are within the ideal weight range.\n",
    "</pre>\n",
    "\n",
    "or\n",
    "\n",
    "<pre>\n",
    "Your BMI is 32.5.\n",
    "You are overweight. You should see your doctor.\n",
    "</pre>\n",
    "\n",
    "## Constraint\n",
    "\n",
    "- Ensure your program takes only numeric data. Don’t let the user continue unless the data is valid."
   ]
  },
  {
   "cell_type": "code",
   "execution_count": 58,
   "metadata": {
    "collapsed": false
   },
   "outputs": [
    {
     "name": "stdout",
     "output_type": "stream",
     "text": [
      "enter your weight in pounds: 115\n",
      "enter your height in inches: 66\n",
      "Your BMI is 18.56 \n",
      "You are within the ideal weight range\n"
     ]
    }
   ],
   "source": [
    "def program6():\n",
    "    try:\n",
    "#These input statements prompt the user to enter integers for the variables weight and height\n",
    "        weight = int(input('enter your weight in pounds: '))\n",
    "        height = int(input('enter your height in inches: '))\n",
    "    except ValueError:  \n",
    "        print('needs to be an integer!') #except identifies when the user didn't enter an integer then the print staement let's the user know that it has to be an\n",
    "    bmi = (weight/(height*height))*703 #formula calculating bmi\n",
    "    if 18.5 <= bmi <= 25: #Measures the variable bmi and provides a desired range of 18.5 to 25\n",
    "        print('Your BMI is {:,.2f}'.format(bmi),'\\n'+\n",
    "              'You are within the ideal weight range') #prints your bmi and string if the bmi is between 18.5 and 25 \n",
    "    elif bmi < 18.5: #Measures the variable bmi and looks for the value to be less than 18.5\n",
    "        print('Your BMI is {:,.2f}'.format(bmi), '\\n'+\n",
    "              'You are underweight. You should see your doctor.') #prints your bmi and string if the bmi is less than 18.5\n",
    "    elif bmi > 25: #Measures the variable bmi and looks for the value to be greater than 18.5\n",
    "        print('Your BMI is {:,.2f}'.format(bmi), '\\n'+\n",
    "              'You are overweight. You should see your doctor.')  #prints your bmi and string if the bmi is greater than 25\n",
    "program6()"
   ]
  },
  {
   "cell_type": "markdown",
   "metadata": {},
   "source": [
    "# Problem 7 (4 points)\n",
    "\n",
    "Create a tax calculator that handles multiple states and multiple counties within each state. The program prompts the user for the order amount and the state where the order will be shipped.\n",
    "\n",
    "Wisconsin residents are charged a base tax of 5%. Wisconsin residents are also charged additional tax based on their county of residence.\n",
    "- For Eau Claire county residents, add an additional 0.005 tax.\n",
    "- For Dunn county residents, add an additional 0.004 tax.\n",
    "\n",
    "Illinois residents must be charged 8% sales tax with no additional county-level charge. All other states are not charged tax. The program then displays the tax and the total for Wisconsin and Illinois residents but just the total for everyone else.\n",
    "\n",
    "## Example Output\n",
    "\n",
    "<pre>\n",
    "What is the order amount? 10\n",
    "What state do you live in? Wisconsin\n",
    "What county do you live in? Eau Claire\n",
    "The tax is $0.55.\n",
    "The total is $10.55.\n",
    "</pre>\n",
    "\n",
    "## Constraints\n",
    "\n",
    "- Ensure that all money is rounded up to the nearest cent.\n",
    "- Use a single output statement at the end of the program to display the program results."
   ]
  },
  {
   "cell_type": "code",
   "execution_count": 14,
   "metadata": {
    "collapsed": false
   },
   "outputs": [
    {
     "name": "stdout",
     "output_type": "stream",
     "text": [
      "enter the order amount: 10\n",
      "enter the shipping state abbreviation: WI\n",
      "enter your county: EAU Claire\n",
      "The tax is $0.56\n",
      "The total is $10.55\n"
     ]
    }
   ],
   "source": [
    "def problem7(): \n",
    "    import math #imports math functions to be used for the rounding constraints\n",
    "#These input statements prompt the user to enter an integer and strings for the variables orderamt, state, and height\n",
    "    orderamt = int(input('enter the order amount: '))\n",
    "    state = input('enter the shipping state abbreviation: ')\n",
    "    county = input('enter your county: ')\n",
    "    outputstr = '' #empty output string to be used when storing information on which each argument will print.\n",
    "    \n",
    "    #The following comments can be applied to every elif statement. I will provide the changes after the first if statement.\n",
    "    \n",
    "    if state == 'WI' and county == 'EAU Claire': #This portion looks for the state and county to be exactly WI and EAU Claire respectively.\n",
    "        tax = orderamt*.055 #Because of the tax information provided, we need to calculate tax of 5.5%\n",
    "        total = orderamt + tax #We also need to add tax to the original order amount to get a subtotal.\n",
    "        outputstr += 'The tax is ${:,.2f}'.format(math.ceil(tax *100)/100)+'\\n'+'The total is ${:,.2f}'.format(total) #Stores the strings and integers then concatenates the final output.\n",
    "    elif state == 'WI' and county == 'Dunn': #Looks for WI and Dunn\n",
    "        tax = orderamt*.054 #Updated tax rate\n",
    "        total = orderamt + tax #Subtotal\n",
    "        outputstr += 'The tax is ${:,.2f}'.format(math.ceil(tax *100)/100)+'\\n'+'The total is ${:,.2f}'.format(total) #Same as above outputstr after updates applied.\n",
    "    elif state == 'WI': #Looks for WI and counties are not specified.\n",
    "        tax = orderamt*.05 #Updated tax rate\n",
    "        total = orderamt + tax #Subtotal\n",
    "        outputstr +='The tax is ${:,.2f}'.format(math.ceil(tax *100)/100)+'\\n'+'The total is ${:,.2f}'.format(total) #Same as above outputstr after updates applied.\n",
    "    elif state == 'IL': #Looks for IL \n",
    "        tax = orderamt*.08 #Updated tax rate\n",
    "        total = orderamt + tax #Subtotal\n",
    "        outputstr += 'The tax is ${:,.2f}'.format(math.ceil(tax *100)/100)+'\\n'+'The total is ${:,.2f}'.format(total) #Same as above outputstr after updates applied.\n",
    "    else: #All alternative entries fall under this statement\n",
    "        total = orderamt #Just need the subtotal without tax\n",
    "        outputstr +='The total is ${:,.2f}'.format(total) #This stores only the total.\n",
    "    print(outputstr) #Looks at all outputstr in the if, elif, and else then prints the correct output.\n",
    "problem7()"
   ]
  },
  {
   "cell_type": "markdown",
   "metadata": {},
   "source": [
    "# Problem 8 (3 points)\n",
    "\n",
    "Write a program that converts a number from 1 to 12 to the corresponding month. Prompt for a number and display the corresponding calendar month, with 1 being January and 12 being December. For any value outside that range, display an appropriate error message.\n",
    "\n",
    "## Example Output\n",
    "\n",
    "<pre>\n",
    "Please enter the number of the month: 3\n",
    "The name of the month is March.\n",
    "</pre>\n",
    "\n",
    "## Constraints\n",
    "\n",
    "- Use a single output statement for this program."
   ]
  },
  {
   "cell_type": "code",
   "execution_count": 15,
   "metadata": {
    "collapsed": false
   },
   "outputs": [
    {
     "name": "stdout",
     "output_type": "stream",
     "text": [
      "enter a month as a number: 3\n",
      "March\n"
     ]
    }
   ],
   "source": [
    "def problem8():\n",
    "    import datetime #imports the module so we can manippulate dates and times\n",
    "#Prompts the user to enter an integer for month.\n",
    "    month = int(input('enter a month as a number: ')) \n",
    "    month = datetime.date(1900, month, 1).strftime('%B') #%B converts an integer to a month name string\n",
    "    print(month)\n",
    "problem8()"
   ]
  },
  {
   "cell_type": "markdown",
   "metadata": {},
   "source": [
    "# Problem 9 (4 points)\n",
    "\n",
    "Create a program that compares two strings and determines if the two strings are anagrams. The program should prompt for both input strings and display the output as shown in the example that follows.\n",
    "\n",
    "## Example Output\n",
    "\n",
    "<pre>\n",
    "Enter two strings and I'll tell you if they are anagrams:\n",
    "Enter the first string: note\n",
    "Enter the second string: tone\n",
    "\"note\" and \"tone\" are anagrams.\n",
    "</pre>\n",
    "\n",
    "## Constraints\n",
    "\n",
    "- Implement the program using a function called `isAnagram`, which takes in two words as its arguments and returns `true` or `false`. Invoke this function from your main program.\n",
    "- Check that both words are the same length."
   ]
  },
  {
   "cell_type": "code",
   "execution_count": 8,
   "metadata": {
    "collapsed": false
   },
   "outputs": [
    {
     "name": "stdout",
     "output_type": "stream",
     "text": [
      "Enter a string: tone\n",
      "Enter a second string: note\n",
      "tone and note are anagrams\n"
     ]
    }
   ],
   "source": [
    "#prompts the user to input strings for word1 and word2\n",
    "word1 = input('Enter a string: ')\n",
    "word2 = input('Enter a second string: ')\n",
    "def isAnagram(s1, s2):\n",
    "    #next part takes the words and analyzes the elements in the string\n",
    "    s1 = ''.join(sorted(word1))\n",
    "    s2 = ''.join(sorted(word2))\n",
    "    #If the words have the same letters, this will print \n",
    "    if s1 == s2:\n",
    "        print(word1, 'and', word2, 'are anagrams')\n",
    "    #If the words do not have the same letters, this will print\n",
    "    else:\n",
    "        print(word1, 'and', word2, 'are not anagrams')\n",
    "        \n",
    "isAnagram(word1, word2)"
   ]
  },
  {
   "cell_type": "markdown",
   "metadata": {},
   "source": [
    "# Problem 10 (4 points)\n",
    "\n",
    "Create a program that determines the complexity of a given password based on these rules:\n",
    "- A very weak password contains only numbers and is fewer than eight characters.\n",
    "- A weak password contains only letters and is fewer than eight characters.\n",
    "- A strong password contains letters and at least one number and is at least eight characters.\n",
    "- A very strong password contains letters, numbers, and special characters and is at least eight characters.\n",
    "\n",
    "## Example Output\n",
    "\n",
    "<pre>\n",
    "The password '12345' is a very weak password.\n",
    "The password 'abcdef' is a weak password.\n",
    "The password 'abc123xyz' is a strong password.\n",
    "The password '1337h@xor!' is a very strong password.\n",
    "</pre>\n",
    "\n",
    "## Constraints\n",
    "\n",
    "- Create a `passwordValidator` function that takes in the password as its argument and returns a value you can evaluate to determine the password strength. Do not have the function return a string — you may need to support multiple languages in the future.\n",
    "- Use a single output statement."
   ]
  },
  {
   "cell_type": "code",
   "execution_count": 5,
   "metadata": {
    "collapsed": false
   },
   "outputs": [
    {
     "name": "stdout",
     "output_type": "stream",
     "text": [
      "Input your password 12345\n",
      "password 12345 is very weak\n"
     ]
    }
   ],
   "source": [
    "def program10():\n",
    "    import re\n",
    "    #Prompts the user to enter a password\n",
    "    p= input(\"Input your password \")\n",
    "    x = True\n",
    "    while x:  #Starts a while loop. \n",
    "        if re.match(\"[a-zA-Z0-9!@#$%^&*]{8,}\",p) and re.search('[0-9]',p) and re.search('[!@#$%^&*]',p):\n",
    "            quality = 'very strong'\n",
    "            break \n",
    "        elif re.match(\"[a-zA-Z0-9]{8,}\",p) and re.search('[0-9]',p): #a-zA-Z first checks for letters, 0-9 checks number, then we have to ensure it has to have a number\n",
    "            quality = 'strong'\n",
    "            break\n",
    "        elif re.match(\"[a-zA-Z]{1,8}\",p):\n",
    "            quality = 'weak'\n",
    "            break\n",
    "        elif re.match(\"[0-9]{1,8}\",p):\n",
    "            quality = 'very weak'\n",
    "            break\n",
    "        else:\n",
    "            quality = 'invalid'\n",
    "        x=False\n",
    "    print('Password', p, 'is', quality)\n",
    "program10()"
   ]
  },
  {
   "cell_type": "markdown",
   "metadata": {},
   "source": [
    "# Problem 11 (6 points)\n",
    "\n",
    "Write a program that will help you determine how many months it will take to pay off a credit card balance. The program should ask the user to enter the balance of a credit card and the APR of the card. The program should then return the number of months needed.\n",
    "\n",
    "The formula for this is\n",
    "\n",
    "$n = -\\frac{1}{30} \\times \\frac{\\log(1 + \\frac{b}{p}(1 - (1 + i)^{30}))}{\\log(1+i)}$\n",
    "\n",
    "where\n",
    "\n",
    "- `n` is the number of months.\n",
    "- `i` is the daily rate (APR divided by 365).\n",
    "- `b` is the balance.\n",
    "- `p` is the monthly payment.\n",
    "\n",
    "## Example Output\n",
    "\n",
    "<pre>\n",
    "What is your balance? 5000\n",
    "What is the APR on the card (as a percent)? 12\n",
    "What is the monthly payment you can make? 100\n",
    "\n",
    "It will take you 70 months to pay off this card.\n",
    "</pre>\n",
    "\n",
    "## Constraints\n",
    "\n",
    "- Prompt for the card’s APR. Do the division internally.\n",
    "- Prompt for the APR as a percentage, not a decimal.\n",
    "- Use a function called `calculateMonthsUntilPaidOff`, which accepts the balance, the APR, and the monthly payment as its arguments and returns the number of months. Don’t access any of these values outside the function.\n",
    "- Round fractions of a cent up to the next cent."
   ]
  },
  {
   "cell_type": "code",
   "execution_count": 13,
   "metadata": {
    "collapsed": false
   },
   "outputs": [
    {
     "name": "stdout",
     "output_type": "stream",
     "text": [
      "What is your balance? 123\n",
      "What is the APR on the card (as a percent)?: 43\n",
      "What is the monthly payment you can make? 5\n",
      "it will take you 61.00 months to pay off this card\n"
     ]
    }
   ],
   "source": [
    "import math\n",
    "def program11():\n",
    "    balance = float(input('What is your balance? '))\n",
    "    apr = float(input('What is the APR on the card (as a percent)?: '))\n",
    "    mthlypmt = float(input('What is the monthly payment you can make? '))\n",
    "    dailyapr = apr / 365 / 100\n",
    "    \n",
    "    def calculateMonthsUntilPaidOff(balance, mthlypmt, dailyapr):\n",
    "        log_test = 1 + balance / mthlypmt * (1 - (1 + dailyapr)** 30)\n",
    "        division = math.log(log_test) / math.log(1 + dailyapr)\n",
    "        answer = math.ceil((-1/30) * (division + .5))\n",
    "        return answer\n",
    "    pay_months = calculateMonthsUntilPaidOff(balance, mthlypmt, dailyapr)\n",
    "    print('it will take you {:.2f} months to pay off this card'.format(pay_months))\n",
    "program11()"
   ]
  },
  {
   "cell_type": "markdown",
   "metadata": {},
   "source": [
    "# Problem 12 (4 points)\n",
    "\n",
    "Write a program that prompts for a first name, last name, employee ID, and ZIP code. Ensure that the input is valid according to these rules:\n",
    "\n",
    "- The first name must be filled in.\n",
    "- The last name must be filled in.\n",
    "- The first and last names must be at least two characters long.\n",
    "- An employee ID is in the format AA-1234. So, two letters, a hyphen, and four numbers.\n",
    "- The ZIP code must be a number.\n",
    "\n",
    "Display appropriate error messages on incorrect data.\n",
    "\n",
    "## Example Output\n",
    "\n",
    "<pre>\n",
    "Enter the first name: J\n",
    "Enter the last name:\n",
    "Enter the ZIP code: ABCDE\n",
    "Enter an employee ID:  A12-1234\n",
    "\"J\" is not a valid first name. It is too short.\n",
    "The last name must be filled in.\n",
    "The ZIP code must be numeric.\n",
    "A12-1234 is not a valid ID.\n",
    "</pre>\n",
    "\n",
    "Or\n",
    "\n",
    "<pre>\n",
    "Enter the first name: Jimmy\n",
    "Enter the last name: James\n",
    "Enter the ZIP code: 55555\n",
    "Enter an employee ID:  TK-421\n",
    "There were no errors found.\n",
    "</pre>\n",
    "\n",
    "## Constraints\n",
    "\n",
    "- Create a function for each type of validation you need to write. Then create a `validateInput` function that takes in all of the input data and invokes the specific validation functions.\n",
    "- Use a single output statement to display the outputs."
   ]
  },
  {
   "cell_type": "code",
   "execution_count": null,
   "metadata": {
    "collapsed": true
   },
   "outputs": [],
   "source": [
    "def problem12():\n",
    "    fname = input('enter your first name: ') #>= 2 characters\n",
    "    lname = input('enter your last name: ') # >= 2 characters\n",
    "    empid = input('enter your employee ID: ') #format AA-1234 [a-z]{2}-[0-9]{5}\n",
    "    zipcode = int(input('enter your zip code: ')) #number\n",
    "    \n",
    "    #validateinput()\n",
    "        #get all variables from above\n",
    "        #validateexists(fname)\n",
    "        #validateexists(lname)\n",
    "        #validatelength(fname)\n",
    "        #validatelength(lname)\n",
    "        \n",
    "    #validateexists(str)\n",
    "        #checks whether variable size is > 0 \n",
    "    #validatelength(str, int targetlength)\n",
    "        #checks whether variable length >= targetlength\n",
    "    # validateformat(str)\n",
    "        #checks whether variable's format is correct\n",
    "    #validatenumeric(int)\n",
    "        #check whether variable is a number"
   ]
  },
  {
   "cell_type": "markdown",
   "metadata": {},
   "source": [
    "# Problem 13 (3 points)\n",
    "\n",
    "Write a program that prompts the user for five numbers and computes the total of the numbers.\n",
    "\n",
    "## Example Output\n",
    "\n",
    "<pre>\n",
    "Enter a number: 1\n",
    "Enter a number: 2\n",
    "Enter a number: 3\n",
    "Enter a number: 4\n",
    "Enter a number: 5\n",
    "The total is 15.\n",
    "</pre>\n",
    "\n",
    "## Constraints\n",
    "\n",
    "- The prompting must use repetition, such as a counted loop, not five separate prompts."
   ]
  },
  {
   "cell_type": "code",
   "execution_count": 3,
   "metadata": {
    "collapsed": false
   },
   "outputs": [
    {
     "name": "stdout",
     "output_type": "stream",
     "text": [
      "enter a number: 2\n",
      "enter a number: 7\n",
      "enter a number: 3\n",
      "enter a number: 5\n",
      "enter a number: 9\n",
      "The total is 26\n"
     ]
    }
   ],
   "source": [
    "def problem13():\n",
    "    #creates a base value for 0\n",
    "    total = 0\n",
    "    #for loop defines a range of values to be manually inpted by the user\n",
    "    for i in range(0,5):\n",
    "        number = int(input('enter a number: ')) #prompts the user to enter a number 5 times\n",
    "        total = total+number #creates the subtotal after all numbers are input by user\n",
    "    print('The total is', total) #concatenates the string and variable then displays the result\n",
    "problem13()"
   ]
  },
  {
   "cell_type": "markdown",
   "metadata": {},
   "source": [
    "## Problem 14 (5 points)\n",
    "\n",
    "Write a quick calculator that prompts for the rate of return on an investment and calculates how many years it will take to double your investment.\n",
    "\n",
    "The formula is $years = 72 / r$, where $r$ is the stated rate of return.\n",
    "\n",
    "## Example Output\n",
    "\n",
    "<pre>\n",
    "What is the rate of return? 0\n",
    "Sorry. That's not a valid input.\n",
    "What is the rate of return? ABC\n",
    "Sorry. That's not a valid input.\n",
    "What is the rate of return? 4\n",
    "It will take 18 years to double your initial investment.\n",
    "</pre>\n",
    "\n",
    "## Constraints\n",
    "\n",
    "- Don’t allow the user to enter 0.\n",
    "- Don’t allow non-numeric values.\n",
    "- Use a loop to trap bad input, so you can ensure that the user enters valid values."
   ]
  },
  {
   "cell_type": "code",
   "execution_count": 37,
   "metadata": {
    "collapsed": false
   },
   "outputs": [
    {
     "name": "stdout",
     "output_type": "stream",
     "text": [
      "Enter rate of return: 3\n",
      "It will take you 24 years to double your initial investment\n"
     ]
    }
   ],
   "source": [
    "def problem14():\n",
    "    while True: #while true creates an infinite loop \n",
    "        r = int(input('Enter rate of return: ')) #prompts the user for an integer and stores as r which is rate of return\n",
    "        try: #try looks for exceptions in the variable r\n",
    "            value = int(r)\n",
    "            if value > 0: #if this argument exists, the loop breaks and the program continues\n",
    "                break\n",
    "            elif value == 0: #satisfies the constraint of the rate of return not able to equal 0.\n",
    "                print('Sorry, that is not a valid input') #error message when selecting 0.\n",
    "            else: #this accounts for negative values. While not specified in the constraints, it did not make sense to allow the user to enter negative numbers\n",
    "                print('Sorry, that is not a valid input') #error message when selecting a negative number.\n",
    "        except ValueError: #identifies when the user enters non-numeric values.\n",
    "            print('Sorry, that is not a valid input') #error message when selecting a non-numeric value\n",
    "    years = 72//r #given formula for calculating years\n",
    "    print('It will take you', years, 'years to double your initial investment') #prints variable years and displays the soultion with the concatenated strings\n",
    "problem14()"
   ]
  },
  {
   "cell_type": "markdown",
   "metadata": {},
   "source": [
    "# Problem 15 (3 points)\n",
    "\n",
    "Create a program that generates multiplication tables for the numbers 0 through 12.\n",
    "\n",
    "## Example Output\n",
    "\n",
    "<pre>\n",
    "       1    2  ...   12\n",
    "  1    1    2        12\n",
    "  2    2    4        24\n",
    "  :\n",
    " 12   12   24       144\n",
    "</pre>\n",
    "\n",
    "## Constraint\n",
    "\n",
    "- Use a nested loop to complete this program."
   ]
  },
  {
   "cell_type": "code",
   "execution_count": 20,
   "metadata": {
    "collapsed": false
   },
   "outputs": [
    {
     "name": "stdout",
     "output_type": "stream",
     "text": [
      "1\t2\t3\t4\t5\t6\t7\t8\t9\t10\t11\t12\t\n",
      "\n",
      "2\t4\t6\t8\t10\t12\t14\t16\t18\t20\t22\t24\t\n",
      "\n",
      "3\t6\t9\t12\t15\t18\t21\t24\t27\t30\t33\t36\t\n",
      "\n",
      "4\t8\t12\t16\t20\t24\t28\t32\t36\t40\t44\t48\t\n",
      "\n",
      "5\t10\t15\t20\t25\t30\t35\t40\t45\t50\t55\t60\t\n",
      "\n",
      "6\t12\t18\t24\t30\t36\t42\t48\t54\t60\t66\t72\t\n",
      "\n",
      "7\t14\t21\t28\t35\t42\t49\t56\t63\t70\t77\t84\t\n",
      "\n",
      "8\t16\t24\t32\t40\t48\t56\t64\t72\t80\t88\t96\t\n",
      "\n",
      "9\t18\t27\t36\t45\t54\t63\t72\t81\t90\t99\t108\t\n",
      "\n",
      "10\t20\t30\t40\t50\t60\t70\t80\t90\t100\t110\t120\t\n",
      "\n",
      "11\t22\t33\t44\t55\t66\t77\t88\t99\t110\t121\t132\t\n",
      "\n",
      "12\t24\t36\t48\t60\t72\t84\t96\t108\t120\t132\t144\t\n",
      "\n"
     ]
    }
   ],
   "source": [
    "def program15():\n",
    "    for i in range(1,13): #creates a for loop and creates the first set of values in the specified range and stores to i\n",
    "        for j in range(1,13): #creates a for loop within a for loop thus, nesting the loop. stores the values in j\n",
    "            print(i * j, end ='\\t') #print statement multiplies the values stored in i and j. end switches the new line to tab\n",
    "        print('\\n') \n",
    "program15()    "
   ]
  },
  {
   "cell_type": "markdown",
   "metadata": {},
   "source": [
    "# Problem 16 (5 points)\n",
    "\n",
    "When getting into a fitness program, you may want to figure out your target heart rate so you don’t overexert yourself. The Karvonen heart rate formula is one method you can use to determine your rate. Create a program that prompts for your age and your resting heart rate. Use the Karvonen formula to determine the target heart rate based on a range of intensities from 55% to 95%. Generate a table with the results as shown in the example output. The formula is\n",
    "\n",
    "$TargetHR = (((220 - age) - restingHR) \\times intensity) + restingHR$\n",
    "\n",
    "## Example Output\n",
    "\n",
    "<pre>\n",
    "Resting Pulse: 65    Age: 22\n",
    "\n",
    "Intensity    | Rate\n",
    "-------------|--------\n",
    "55%          | 138 bpm\n",
    "60%          | 145 bpm\n",
    "65%          | 151 bpm\n",
    " :              :       (extra lines omitted)\n",
    "85%          | 178 bpm\n",
    "90%          | 185 bpm\n",
    "95%          | 191 bpm\n",
    "</pre>\n",
    "\n",
    "## Constraints\n",
    "\n",
    "- Don’t hard-code the percentages. Use a loop to increment the percentages from 55 to 95.\n",
    "- Ensure that the heart rate and age are entered as numbers. Don’t allow the user to continue without entering valid inputs.\n",
    "- Display the results in a tabular format."
   ]
  },
  {
   "cell_type": "code",
   "execution_count": null,
   "metadata": {
    "collapsed": true
   },
   "outputs": [],
   "source": []
  },
  {
   "cell_type": "markdown",
   "metadata": {},
   "source": [
    "# Problem 17 (4 points)\n",
    "\n",
    "Write a Guess the Number game that has three levels of difficulty. The first level of difficulty would be a number between 1 and 10. The second difficulty set would be between 1 and 100. The third difficulty set would be between 1 and 1000.\n",
    "\n",
    "Prompt for the difficulty level, and then start the game. The computer picks a random number in that range and prompts the player to guess that number. Each time the player guesses, the computer should give the player a hint as to whether the number is too high or too low. The computer should also keep track of the number of guesses. Once the player guesses the correct number, the computer should present the number of guesses and ask if the player would like to play again.\n",
    "\n",
    "## Example Output\n",
    "\n",
    "<pre>\n",
    "Let's play Guess the Number.\n",
    "Pick a difficulty level (1, 2, or 3): 1\n",
    "I have my number. What's your guess? 1\n",
    "Too low.  Guess again: 5\n",
    "Too high. Guess again: 2\n",
    "You got it in 3 guesses!\n",
    "Play again? n\n",
    "Goodbye!\n",
    "</pre>\n",
    "\n",
    "## Constraints\n",
    "\n",
    "- Don’t allow any non-numeric data entry.\n",
    "- During the game, count non-numeric entries as wrong guesses."
   ]
  },
  {
   "cell_type": "code",
   "execution_count": 4,
   "metadata": {
    "collapsed": false
   },
   "outputs": [
    {
     "name": "stdout",
     "output_type": "stream",
     "text": [
      "Pick a difficulty level: 1\n",
      "I have my number. What is your guess?\n",
      "Your guess please: 3\n",
      "Well done!\n",
      "Want to play again? n\n"
     ]
    }
   ],
   "source": [
    "#Imports modules to be used later\n",
    "import random\n",
    "import sys\n",
    "def program17():\n",
    "    \n",
    "#This next section prompts the user to select a difficulty level 1, 2, or 3.\n",
    "    difficulty = int(input('Pick a difficulty level: '))\n",
    "    if difficulty == 1:\n",
    "        random_number = random.randrange(1, 10) #first level of difficulty. random.randrange will look at the range prvoided and generate a random solution between 1 and 10\n",
    "    elif difficulty == 2:\n",
    "        random_number = random.randrange(1, 100) #second level of difficulty. random.randrange will look at the range prvoided and generate a random solution between 1 and 100\n",
    "    elif difficulty == 3:\n",
    "        random_number = random.randrange(1, 1000) #third level of difficulty. random.randrange will look at the range prvoided and generate a random solution between 1 and 1000\n",
    "    print(\"I have my number. What is your guess?\") #Tells the user that they have a number that needs to be guessed\n",
    "\n",
    "    while True: #creates an infinite loop\n",
    "        try:\n",
    "            user_input = int(input(\"Your guess please: \")) #prompts the user to guess a number\n",
    "        except ValueError:\n",
    "            print(\"Please enter a number.\") #if the user does not select a number, this error message will display\n",
    "            continue #given that the user selected a number, the program will continue\n",
    "        if user_input == random_number: \n",
    "            print(\"Well done!\") #once the user selects the correct number, this string will display and the program will end\n",
    "            again = input('Want to play again? ') \n",
    "            if again == 'y':\n",
    "                program17() #this will call program17 and prompt the user to play again.\n",
    "            break\n",
    "        else:\n",
    "            print(\"Try one more time, a bit {}.\".format(\"higher\" if user_input < random_number else \"lower\"))\n",
    "             \n",
    "if __name__ == '__main__':\n",
    "    program17()"
   ]
  },
  {
   "cell_type": "markdown",
   "metadata": {},
   "source": [
    "# Problem 18 (3 points)\n",
    "\n",
    "Create a Magic 8 Ball game that prompts for a question and then displays either \"Yes,\" \"No,\" \"Maybe,\" or \"Ask again later.\"\n",
    "\n",
    "## Example Output\n",
    "\n",
    "<pre>\n",
    "What's your question?  Will I be rich and famous?\n",
    "Ask again later.\n",
    "</pre>\n",
    "\n",
    "## Constraint\n",
    "\n",
    "- The value should be chosen randomly using a pseudo random number generator. Store the possible choices in a list and select one at random."
   ]
  },
  {
   "cell_type": "code",
   "execution_count": 1,
   "metadata": {
    "collapsed": false
   },
   "outputs": [
    {
     "name": "stdout",
     "output_type": "stream",
     "text": [
      "What's your question? will i pass tomorrow?\n",
      "Maybe\n"
     ]
    }
   ],
   "source": [
    "#imports module to be used later\n",
    "import random\n",
    "def program18():\n",
    "    x = input(\"What's your question? \") #asks the user to submit a question\n",
    "    choices = ['Yes', 'No', 'Maybe', 'Ask again later'] #list of answers the 8-ball can produce\n",
    "    print(random.choice(choices)) #randonly generates a solution and displays\n",
    "program18()"
   ]
  },
  {
   "cell_type": "markdown",
   "metadata": {},
   "source": [
    "# Problem 19 (3 points)\n",
    "\n",
    "Create a small program that contains a list of employee names. Print out the list of names when the program runs the first time. Prompt for an employee name and remove that specific name from the list of names. Display the remaining employees, each on its own line.\n",
    "\n",
    "## Example Output\n",
    "\n",
    "<pre>\n",
    "There are 5 employees:\n",
    "John Smith\n",
    "Jackie Jackson\n",
    "Chris Jones\n",
    "Amanda Cullen\n",
    "Jeremy Goodwin\n",
    "\n",
    "Enter an employee name to remove: Chris Jones\n",
    "\n",
    "There are 4 employees:\n",
    "John Smith\n",
    "Jackie Jackson\n",
    "Amanda Cullen\n",
    "Jeremy Goodwin\n",
    "</pre>\n",
    "\n",
    "## Constraint\n",
    "\n",
    "- Use a sequence or list to store the names."
   ]
  },
  {
   "cell_type": "code",
   "execution_count": 56,
   "metadata": {
    "collapsed": false
   },
   "outputs": [
    {
     "name": "stdout",
     "output_type": "stream",
     "text": [
      "The current employees are: \n",
      "John Smith\n",
      "Jackie Johnson\n",
      "Chris Jones\n",
      "Amanda Cullen\n",
      "Jeremy Goodwin\n",
      "enter an employee to remove: John Smith\n",
      "the remaining employees are: \n",
      "Jackie Johnson\n",
      "Chris Jones\n",
      "Amanda Cullen\n",
      "Jeremy Goodwin\n"
     ]
    }
   ],
   "source": [
    "def program19():\n",
    "    employees = ['John Smith', 'Jackie Johnson', 'Chris Jones', 'Amanda Cullen', 'Jeremy Goodwin']\n",
    "    print('The current employees are: ')\n",
    "    print('\\n' .join(employees))\n",
    "    \n",
    "    remove = input('enter an employee to remove: ')\n",
    "    employees.remove(remove)\n",
    "    print('the remaining employees are: ')\n",
    "    print('\\n' .join(employees))\n",
    "program19()"
   ]
  },
  {
   "cell_type": "markdown",
   "metadata": {},
   "source": [
    "# Problem 20 (5 points)\n",
    "\n",
    "Create a program that picks a winner for a contest or prize drawing. Prompt for names of contestants until the user leaves the entry blank. Then randomly select a winner.\n",
    "\n",
    "## Example Output\n",
    "\n",
    "<pre>\n",
    "Enter a name: Homer\n",
    "Enter a name: Bart\n",
    "Enter a name: Maggie\n",
    "Enter a name: Lisa\n",
    "Enter a name: Moe\n",
    "Enter a name:\n",
    "The winner is... Maggie.\n",
    "</pre>\n",
    "\n",
    "## Constraints\n",
    "\n",
    "- Use a loop to capture user input into a sequence.\n",
    "- Use a random number generator to pluck a value from the sequence.\n",
    "- Don’t include a blank entry in the sequence."
   ]
  },
  {
   "cell_type": "code",
   "execution_count": null,
   "metadata": {
    "collapsed": true
   },
   "outputs": [],
   "source": [
    "def program20():\n",
    "    name1 = input('enter a name: ')\n",
    "    name2 = input('enter a name: ')\n",
    "    name3 = input('enter a name: ')\n",
    "    name4 = input('enter a name: ')\n",
    "    name5 = input('enter a name: ')"
   ]
  },
  {
   "cell_type": "markdown",
   "metadata": {},
   "source": [
    "# Problem 21 (6 points)\n",
    "\n",
    "Write a program that prompts for response times from a website in milliseconds. It should keep asking for values until the user enters “done.”\n",
    "\n",
    "The program should print the average time (mean), the minimum time, the maximum time, and the standard deviation.\n",
    "\n",
    "To compute the average (mean)\n",
    "- Compute the sum of all values.\n",
    "- Divide the sum by the number of values.\n",
    "\n",
    "To compute the standard deviation\n",
    "- Calculate the difference from the mean for each number and square it.\n",
    "- Compute the mean of the squared values.\n",
    "- Take the square root of the mean.\n",
    "\n",
    "## Example Output\n",
    "\n",
    "<pre>\n",
    "Enter a number: 100\n",
    "Enter a number: 200\n",
    "Enter a number: 1000\n",
    "Enter a number: 300\n",
    "Enter a number: done\n",
    "\n",
    "Numbers: 100, 200, 1000, 300\n",
    "The average is 400.\n",
    "The minimum is 100.\n",
    "The maximum is 1000.\n",
    "The standard deviation is 400.25.\n",
    "</pre>\n",
    "\n",
    "## Constraints\n",
    "\n",
    "- Use loops and sequences to perform the input and mathematical operations.\n",
    "- Be sure to exclude the “done” entry from the sequence of inputs.\n",
    "- Be sure to properly convert numeric values to strings.\n",
    "- Keep the input separate from the processing and the output."
   ]
  },
  {
   "cell_type": "code",
   "execution_count": null,
   "metadata": {
    "collapsed": false
   },
   "outputs": [
    {
     "name": "stdout",
     "output_type": "stream",
     "text": [
      "enter a number: 1\n",
      "enter a number: 2\n",
      "enter a number: 3\n",
      "enter a number: 4\n",
      "enter a number: done\n"
     ]
    }
   ],
   "source": [
    "def program21():\n",
    "    while True:\n",
    "        try:\n",
    "            numbers = int(input('enter a number: '))\n",
    "        except ValueError:\n",
    "            if numbers == 'done':\n",
    "                break\n",
    "    print(numbers)\n",
    "program21()"
   ]
  },
  {
   "cell_type": "markdown",
   "metadata": {},
   "source": [
    "# Problem 22 (4 points)\n",
    "\n",
    "Create a program that generates a secure password. Prompt the user for the minimum length, the number of special characters, and the number of numbers. Then generate a password for the user using those inputs.\n",
    "\n",
    "## Example Output\n",
    "\n",
    "<pre>\n",
    "What's the minimum length? 8\n",
    "How many special characters? 2\n",
    "How many numbers? 2\n",
    "Your password is\n",
    "aurn2$1s#\n",
    "</pre>\n",
    "\n",
    "## Constraints\n",
    "\n",
    "- Use lists to store the characters you’ll use to generate the passwords.\n",
    "- Add some randomness to the password generation."
   ]
  },
  {
   "cell_type": "code",
   "execution_count": null,
   "metadata": {
    "collapsed": true
   },
   "outputs": [],
   "source": [
    "import random\n",
    "def problem22:\n",
    "    pwlength = int(input(\"What's the minimum length? \"))\n",
    "    pwspecial = int(input('How many special characters? '))\n",
    "    pwnumbers = int(input('How many numbers? '))\n",
    "    letters = ['a', 'b', 'c', 'd', 'e', 'f', 'g', 'h', 'i', 'j', 'k', \n",
    "               'l', 'm', 'n', 'o', 'p', 'q', 'r', 's', 't', 'u', 'v', 'w', 'x', 'y', 'z']\n",
    "    number = ['1', '2', '3', '4', '5', '6', '7', '8', '9']\n",
    "    symbols = ['!', '@', '#', '$', '%', '^', '&', '*']\n",
    "    "
   ]
  },
  {
   "cell_type": "markdown",
   "metadata": {},
   "source": [
    "# Problem 23 (5 points)\n",
    "\n",
    "Create a program that prompts for a list of numbers, separated by spaces. Have the program print out a new list containing only the even numbers.\n",
    "\n",
    "## Example Output\n",
    "\n",
    "<pre>\n",
    "Enter a list of numbers, separated by spaces:  1 2 3 4 5 6 7 8\n",
    "The even numbers are 2 4 6 8.\n",
    "</pre>\n",
    "\n",
    "## Constraints\n",
    "\n",
    "- Convert the input to an sequence. Many languages can easily convert strings to arrays with a built-in function that splits apart a string based on a specified delimiter.\n",
    "- Write your own algorithm — don’t rely on the language’s built-in filter or similar enumeration feature.\n",
    "- Use a function called `filterEvenNumbers` to encapsulate the logic for this. The function takes in the old sequence and returns the new sequence."
   ]
  },
  {
   "cell_type": "code",
   "execution_count": 36,
   "metadata": {
    "collapsed": false
   },
   "outputs": [
    {
     "name": "stdout",
     "output_type": "stream",
     "text": [
      "Please enter your numbers: 1 2 3 4\n",
      "[1, 2, 3, 4]\n"
     ]
    }
   ],
   "source": [
    "def filterEvenNumbers():\n",
    "    s = input(\"Please enter your numbers: \")\n",
    "    mynums = s.split(\" \")\n",
    "    mynums = [int(i) for i in mynums]\n",
    "    \n",
    "    print(mynums)\n",
    "filterEvenNumbers()"
   ]
  },
  {
   "cell_type": "code",
   "execution_count": null,
   "metadata": {
    "collapsed": true
   },
   "outputs": [],
   "source": [
    "def problemtwentythree():\n",
    "    user_string = input(\"Enter a list of numbers separated by spaces. \")\n",
    "    split_list = user_string.split(\" \")\n",
    "    split_list = [int(i) for i in split_list]\n",
    "    split_list.sort()\n",
    "    even_numbers = []\n",
    "\n",
    "    def filterEvenNumbers():\n",
    "        for i in split_list:\n",
    "            if i % 2 == 0:\n",
    "                even_numbers.append(i)\n",
    "    test = filterEvenNumbers()\n",
    "    print(\"The even numbers are\", end=' ')\n",
    "    size_even_numbers = len(even_numbers)\n",
    "    for i in even_numbers:\n",
    "        print(i, end=\" \") "
   ]
  },
  {
   "cell_type": "markdown",
   "metadata": {},
   "source": [
    "# Problem 24 (3 points)\n",
    "\n",
    "Given the following data set\n",
    "\n",
    "<pre>\n",
    "First Name    Last Name    Position             Separation date\n",
    "John          Johnson      Manager              2016-12-31\n",
    "Tou           Xiong        Software Engineer    2016-10-05\n",
    "Michaela      Michaelson   District Manager     2015-12-19\n",
    "Jake          Jacobson     Programmer\n",
    "Jacquelyn     Jackson      DBA\n",
    "Sally         Weber        Web Developer        2015-12-18\n",
    "</pre>\n",
    "\n",
    "create a program that sorts all employees by last name and prints them to the screen in a tabular format.\n",
    "\n",
    "## Example Output\n",
    "\n",
    "<pre>\n",
    "Name                | Position          | Separation Date\n",
    "--------------------|-------------------|----------------\n",
    "Jacquelyn Jackson   | DBA               |\n",
    "Jake Jacobson       | Programmer        |\n",
    "John Johnson        | Manager           | 2016-12-31\n",
    "Michaela Michaelson | District Manager  | 2015-12-19\n",
    "Sally Weber         | Web Developer     | 2015-12-18\n",
    "Tou Xiong           | Software Engineer | 2016-10-05\n",
    "</pre>\n",
    "\n",
    "## Constraint\n",
    "\n",
    "- Implement the data using a sequence of maps."
   ]
  },
  {
   "cell_type": "code",
   "execution_count": 84,
   "metadata": {
    "collapsed": false
   },
   "outputs": [
    {
     "name": "stdout",
     "output_type": "stream",
     "text": [
      "Name\t\t\t| Position\t\t| Separation Date\n",
      "------------------------|-----------------------|----------------\n",
      "  first name   last name           position separation date\n",
      "   Jacquelyn     Jackson                DBA                \n",
      "        Jake    Jacobson         Programmer                \n",
      "        John     Johnson            Manager      2016-12-31\n",
      "    Michaela  Michaelson   District Manager      2015-12-19\n",
      "       Sally       Weber      Web Developer      2015-12-18\n",
      "         Tou       Xiong  Software Engineer      2016-10-05\n"
     ]
    }
   ],
   "source": [
    "import pandas as pd\n",
    "def program24():\n",
    "    data = {'first name': ['John', 'Tou', 'Michaela', 'Jake', 'Jacquelyn', 'Sally'],\n",
    "            'last name': ['Johnson', 'Xiong', 'Michaelson', 'Jacobson', 'Jackson', 'Weber'],\n",
    "            'position': ['Manager', 'Software Engineer', 'District Manager', 'Programmer', 'DBA', 'Web Developer'],\n",
    "            'separation date': ['2016-12-31', '2016-10-05', '2015-12-19', ' ', ' ', '2015-12-18']}\n",
    "    df = pd.DataFrame(data)\n",
    "    row_labels = [' ', ' ', ' ', ' ', ' ', ' ']\n",
    "    df.index = row_labels\n",
    "    result = df.sort_values(by = 'last name')\n",
    "    print('Name\\t\\t\\t| Position\\t\\t| Separation Date')\n",
    "    print('------------------------|-----------------------|----------------')\n",
    "    print(result)\n",
    "program24()"
   ]
  },
  {
   "cell_type": "code",
   "execution_count": 68,
   "metadata": {
    "collapsed": false
   },
   "outputs": [
    {
     "ename": "SyntaxError",
     "evalue": "invalid character in identifier (<ipython-input-68-11ef3cd9e175>, line 2)",
     "output_type": "error",
     "traceback": [
      "\u001b[0;36m  File \u001b[0;32m\"<ipython-input-68-11ef3cd9e175>\"\u001b[0;36m, line \u001b[0;32m2\u001b[0m\n\u001b[0;31m    data = {'First Name': ['John', 'Tou', 'Michaela', 'Jake', 'Jacquelyn', 'Sally'],\u001b[0m\n\u001b[0m        ^\u001b[0m\n\u001b[0;31mSyntaxError\u001b[0m\u001b[0;31m:\u001b[0m invalid character in identifier\n"
     ]
    }
   ],
   "source": [
    "def problem24():\n",
    "    data = {'First Name': ['John', 'Tou', 'Michaela', 'Jake', 'Jacquelyn', 'Sally'],\n",
    "        'Last Name': ['Johnson', 'Xiong', 'Michaelson', 'Jacobson', 'Jackson', 'Weber'],\n",
    "        'Position': ['Manager', 'Software Engineer', 'District Manager', 'Programmer', 'DBA', 'Web Developer'],\n",
    "        'Separation Date': ['2016-12-31', '2016-10-05', '2015-12-19', '', '', '2015-12-18']} \n",
    "import pandas as pd\n",
    "\n",
    "df = pd.DataFrame(data=data, columns=['First Name','Last Name','Position','Separation Date'])\n",
    "print(df)\n",
    "df.sort_values(['Last Name'], ascending=[True], inplace=True)\n",
    "df['Full Name'] = df['First Name']+' '+df['Last Name']\n",
    "df = pd.DataFrame(data=data, columns =['Full Name','Position','Separation Date'])\n",
    "print(df[:,-1]) \n",
    "problem24()"
   ]
  },
  {
   "cell_type": "markdown",
   "metadata": {},
   "source": [
    "# Problem 25 (4 points)\n",
    "\n",
    "Given the following data set\n",
    "\n",
    "<pre>\n",
    "First Name    Last Name    Position             Separation date\n",
    "John          Johnson      Manager              2016-12-31\n",
    "Tou           Xiong        Software Engineer    2016-10-05\n",
    "Michaela      Michaelson   District Manager     2015-12-19\n",
    "Jake          Jacobson     Programmer\n",
    "Jacquelyn     Jackson      DBA\n",
    "Sally         Weber        Web Developer        2015-12-18\n",
    "</pre>\n",
    "\n",
    "create a program that lets a user locate all records that match the search string by comparing the search string to the first or last name field.\n",
    "\n",
    "## Example Output\n",
    "\n",
    "<pre>\n",
    "Enter a search string:  Jac\n",
    "\n",
    "Results:\n",
    "Name                | Position          | Separation Date\n",
    "--------------------|-------------------|----------------\n",
    "Jacquelyn Jackson   | DBA               |\n",
    "Jake Jacobson       | Programmer        |\n",
    "</pre>\n",
    "\n",
    "## Constraint\n",
    "\n",
    "- Implement the data using a sequence of maps or an associative array.\n",
    "- Make the search case insensitive."
   ]
  },
  {
   "cell_type": "code",
   "execution_count": 24,
   "metadata": {
    "collapsed": false
   },
   "outputs": [
    {
     "name": "stdout",
     "output_type": "stream",
     "text": [
      "enter a search string: n\n",
      "Results: \n",
      "Name\t\t\t| Position\t\t| Separation Date\n",
      "------------------------|-----------------------|----------------\n",
      "John Johnson \t\t| Manager \t\t| 2016-12-31\n",
      "Jacquelyn Jackson \t\t| DBA \t\t|  \n",
      "Tou Xiong \t\t| Software Engineer \t\t| 2016-10-05\n",
      "Michaela Michaelson \t\t| District Manager \t\t| 2015-12-19\n",
      "Jake Jacobson \t\t| Programmer \t\t|  \n"
     ]
    }
   ],
   "source": [
    "def program25():\n",
    "    data = {'first name': ['John', 'Tou', 'Michaela', 'Jake', 'Jacquelyn', 'Sally'],\n",
    "            'last name': ['Johnson', 'Xiong', 'Michaelson', 'Jacobson', 'Jackson', 'Weber'],\n",
    "            'position': ['Manager', 'Software Engineer', 'District Manager', 'Programmer', 'DBA', 'Web Developer'],\n",
    "            'separation date': ['2016-12-31', '2016-10-05', '2015-12-19', ' ', ' ', '2015-12-18']}\n",
    "    search = input('enter a search string: ').lower()\n",
    "    match = []\n",
    "    for name in data['first name']:\n",
    "        if search in name.lower():\n",
    "            match.append(data['first name'].index(name))\n",
    "    for name in data['last name']:\n",
    "        if search in name.lower() and data['last name'].index(name) not in match:\n",
    "            match.append(data['last name'].index(name))   \n",
    "    print('Results: ')\n",
    "    print('Name\\t\\t\\t| Position\\t\\t| Separation Date')\n",
    "    print('------------------------|-----------------------|----------------')\n",
    "    for i in match:\n",
    "        print(data['first name'][i],data['last name'][i],'\\t\\t|', data['position'][i],'\\t\\t|', data['separation date'][i])\n",
    "program25()"
   ]
  },
  {
   "cell_type": "markdown",
   "metadata": {},
   "source": [
    "# Problem 26 (3 points)\n",
    "\n",
    "Create a program that reads in the following list of names:\n",
    "\n",
    "<pre>\n",
    "Ling, Mai\n",
    "Johnson, Jim\n",
    "Zarnecki, Sabrina\n",
    "Jones, Chris\n",
    "Jones, Aaron\n",
    "Swift, Geoffrey\n",
    "Xiong, Fong\n",
    "</pre>\n",
    "\n",
    "Read this program and sort the list alphabetically. Then print the sorted list to a file that looks like the following example output.\n",
    "\n",
    "## Example Output\n",
    "\n",
    "<pre>\n",
    "Total of 7 names\n",
    "-----------------\n",
    "Ling, Mai\n",
    "Johnson, Jim\n",
    "Jones, Aaron\n",
    "Jones, Chris\n",
    "Swift, Geoffrey\n",
    "Xiong, Fong\n",
    "Zarnecki, Sabrina\n",
    "</pre>\n",
    "\n",
    "## Constraint\n",
    "\n",
    "- Don’t hard-code the number of names."
   ]
  },
  {
   "cell_type": "code",
   "execution_count": 31,
   "metadata": {
    "collapsed": false
   },
   "outputs": [
    {
     "name": "stdout",
     "output_type": "stream",
     "text": [
      "Total of 7 names\n",
      "------------------\n",
      "Johnson, Jim\n",
      "Jones, Aaron\n",
      "Jones, Chris\n",
      "Ling, Mai\n",
      "Swift, Geoffrey\n",
      "Xiong, Fong\n",
      "Zarnecki, Sabrina\n"
     ]
    }
   ],
   "source": [
    "def problem26():\n",
    "    names = ['Ling, Mai', 'Johnson, Jim', 'Zarnecki, Sabrina', 'Jones, Chris', 'Jones, Aaron', 'Swift, Geoffrey', 'Xiong, Fong']\n",
    "    names.sort()\n",
    "    count = len(names)\n",
    "    print('Total of', count, 'names')\n",
    "    print('------------------')\n",
    "    print('\\n' .join(names))\n",
    "problem26()"
   ]
  },
  {
   "cell_type": "markdown",
   "metadata": {},
   "source": [
    "# Problem 27 (5 points)\n",
    "\n",
    "Construct a program that reads in the following data file:\n",
    "\n",
    "<pre>\n",
    "Ling,Mai,55900\n",
    "Johnson,Jim,56500\n",
    "Jones,Aaron,46000\n",
    "Jones,Chris,34500\n",
    "Swift,Geoffrey,14200\n",
    "Xiong,Fong,65000\n",
    "Zarnecki,Sabrina,51500\n",
    "</pre>\n",
    "\n",
    "Process the records and display the results formatted as a table, evenly spaced, as shown in the example output.\n",
    "\n",
    "## Example Output\n",
    "\n",
    "<pre>\n",
    "Last     First     Salary\n",
    "-------------------------\n",
    "Ling     Mai       55900\n",
    "Johnson  Jim       56500\n",
    "Jones    Aaron     46000\n",
    "Jones    Chris     34500\n",
    "Swift    Geoffrey  14200\n",
    "Xiong    Fong      65000\n",
    "Zarnecki Sabrina   51500\n",
    "</pre>\n",
    "\n",
    "## Constraints\n",
    "\n",
    "- Write your own code to parse the data. Don’t use a CSV parser.\n",
    "- Make each column one space longer than the longest value in the column.\n",
    "- Format the salary as currency with dollar signs and commas."
   ]
  },
  {
   "cell_type": "code",
   "execution_count": null,
   "metadata": {
    "collapsed": true
   },
   "outputs": [],
   "source": [
    "#Problem 27. Bring in a file and split the records without using import csv.\n",
    "def problem27():\n",
    "    filename = 'Problem_27.csv'\n",
    "    with open(filename, 'r') as f:\n",
    "        results = []\n",
    "        for line in f:\n",
    "            words = line.split(',')\n",
    "            results.append((words[0], words[1], words[2]))\n",
    "#        print(type(results))\n",
    "#        print(results)\n",
    "    column1 = max(results[0][0], results[1][0], results[2][0], results[3][0], results[4][0], results[5][0],\n",
    "                  results[6][0], key=len) \n",
    "    column2 = max(results[0][1], results[1][1], results[2][1], results[3][1], results[4][1], results[5][1],\n",
    "                  results[6][1], key=len)\n",
    "    column1length = len(column1)+ 1\n",
    "    column2length = len(column2) + 1\n",
    "\n",
    "    print(\"{:<{}}{:<{}}Salary\".format('Last', column1length, 'First', column2length))\n",
    "    for i in range(0,7):\n",
    "        print(\"{:<{}}{:<{}}${:,.2f}\".format(results[i][0], column1length, results[i][1], column2length, int(results[i][2]))) \n"
   ]
  },
  {
   "cell_type": "markdown",
   "metadata": {},
   "source": [
    "# Problem 28 (4 points)\n",
    "\n",
    "Create a program that takes a product name as input and retrieves the current price and quantity for that product. The product data is in a data file in the JSON format and looks like this:\n",
    "\n",
    "<pre>\n",
    "{\n",
    "  \"products\" : [\n",
    "    {\"name\": \"Widget\", \"price\": 25.00, \"quantity\": 5 },\n",
    "    {\"name\": \"Thing\", \"price\": 15.00, \"quantity\": 5 },\n",
    "    {\"name\": \"Doodad\", \"price\": 5.00, \"quantity\": 10 }\n",
    "  ]\n",
    "}\n",
    "</pre>\n",
    "\n",
    "Print out the product name, price, and quantity if the product is found. If no product matches the search, state that no product was found and start over.\n",
    "\n",
    "Python has a module for working with JSON as part of its standard library: https://docs.python.org/3/library/json.html\n",
    "\n",
    "## Example Output\n",
    "\n",
    "<pre>\n",
    "What is the product name? iPad\n",
    "Sorry, that product was not found in our inventory.\n",
    "What is the product name? Widget\n",
    "Name: Widget\n",
    "Price: $25.00\n",
    "Quantity on hand: 5\n",
    "</pre>\n",
    "\n",
    "## Constraints\n",
    "\n",
    "- The file is in the JSON format. Use a JSON parser to pull the values out of the file.\n",
    "- If no record is found, prompt again."
   ]
  },
  {
   "cell_type": "code",
   "execution_count": 36,
   "metadata": {
    "collapsed": false
   },
   "outputs": [
    {
     "name": "stdout",
     "output_type": "stream",
     "text": [
      "What is the product name? Widget\n",
      "Name:  Widget \n",
      "Price:  $25.00 \n",
      "Quantity on hand:  5\n"
     ]
    }
   ],
   "source": [
    "import json\n",
    "def program28():\n",
    "    with open('28.txt', 'r') as data: #looks at the information in the textfile and assigns it as data\n",
    "        newdata = json.load(data) #creates an object to be referenced throughout the code\n",
    "        match= -1\n",
    "        while match == -1:\n",
    "            product = input('What is the product name? ')\n",
    "            for x in newdata['products']:\n",
    "                if x['name'] == product:\n",
    "                    match = newdata['products'].index(x)\n",
    "            if match == -1:\n",
    "                print('sorry, that product was not found in our inventory')\n",
    "        print('Name: ', newdata['products'][match]['name'], '\\nPrice: ', '${:,.2f}'.format(newdata['products'][match]['price']), \n",
    "              '\\nQuantity on hand: ', newdata['products'][match]['quantity'])\n",
    "        \n",
    "program28() "
   ]
  },
  {
   "cell_type": "markdown",
   "metadata": {},
   "source": [
    "# Problem 29 (4 points)\n",
    "\n",
    "Given an input file, read the file and look for all occurrences of the word utilize. Replace each occurrence with use. Write the modified file to a new file.\n",
    "\n",
    "## Example Output\n",
    "\n",
    "Given the input file of\n",
    "\n",
    "> One should never utilize the word \"utilize\" in writing. Use \"use\" instead.\n",
    "\n",
    "The program should generate an output file containing\n",
    "\n",
    "> One should never use the word \"use\" in writing. Use \"use\" instead.\n",
    "\n",
    "## Constraints\n",
    "\n",
    "- Prompt for the name of the output file.\n",
    "- Write the output to a new file."
   ]
  },
  {
   "cell_type": "code",
   "execution_count": null,
   "metadata": {
    "collapsed": true
   },
   "outputs": [],
   "source": [
    "def problemtwentynine():\n",
    "    file = open('Problem_29.txt')\n",
    "    contents = file.read()\n",
    "    print(contents)\n",
    "    replaced_contents = contents.replace('utilize', 'use')\n",
    "#    print(replaced_contents)\n",
    "    new_file_name = input(\"What do you want the new file to be titled?\")\n",
    "    new_file = open('{}.txt'.format(new_file_name),'w+')\n",
    "    new_file.write(replaced_contents)\n",
    "    new_file.close() "
   ]
  },
  {
   "cell_type": "markdown",
   "metadata": {},
   "source": [
    "# Problem 30 (3 points)\n",
    "\n",
    "Create a program that reads in a file and counts the frequency of words in the file. Then construct a histogram displaying the words and the frequency, and display the histogram to the screen.\n",
    "\n",
    "## Example Output\n",
    "\n",
    "Given the text file words.txt with this content\n",
    "\n",
    "> badger badger badger badger mushroom mushroom snake badger badger badger\n",
    "\n",
    "the program would produce the following output:\n",
    "\n",
    "<pre>\n",
    "badger:   *******\n",
    "mushroom: **\n",
    "snake:    *\n",
    "</pre>\n",
    "\n",
    "## Constraint\n",
    "\n",
    "- Ensure that the most used word is at the top of the report and the least used words are at the bottom."
   ]
  },
  {
   "cell_type": "code",
   "execution_count": null,
   "metadata": {
    "collapsed": true
   },
   "outputs": [],
   "source": []
  }
 ],
 "metadata": {
  "anaconda-cloud": {},
  "kernelspec": {
   "display_name": "Python [conda root]",
   "language": "python",
   "name": "conda-root-py"
  },
  "language_info": {
   "codemirror_mode": {
    "name": "ipython",
    "version": 3
   },
   "file_extension": ".py",
   "mimetype": "text/x-python",
   "name": "python",
   "nbconvert_exporter": "python",
   "pygments_lexer": "ipython3",
   "version": "3.5.2"
  }
 },
 "nbformat": 4,
 "nbformat_minor": 1
}
